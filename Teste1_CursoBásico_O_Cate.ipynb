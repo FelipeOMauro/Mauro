{
  "nbformat": 4,
  "nbformat_minor": 0,
  "metadata": {
    "colab": {
      "provenance": [],
      "authorship_tag": "ABX9TyPmS0ZnRZQlnP6RVY8zDsK8",
      "include_colab_link": true
    },
    "kernelspec": {
      "name": "python3",
      "display_name": "Python 3"
    },
    "language_info": {
      "name": "python"
    }
  },
  "cells": [
    {
      "cell_type": "markdown",
      "metadata": {
        "id": "view-in-github",
        "colab_type": "text"
      },
      "source": [
        "<a href=\"https://colab.research.google.com/github/FelipeOMauro/Mauro/blob/main/Teste1_CursoB%C3%A1sico_O_Cate.ipynb\" target=\"_parent\"><img src=\"https://colab.research.google.com/assets/colab-badge.svg\" alt=\"Open In Colab\"/></a>"
      ]
    },
    {
      "cell_type": "code",
      "execution_count": null,
      "metadata": {
        "colab": {
          "base_uri": "https://localhost:8080/"
        },
        "id": "Q_QK-p6sxti9",
        "outputId": "a4729d71-1247-4b92-fe17-333c0d7eaa74"
      },
      "outputs": [
        {
          "output_type": "stream",
          "name": "stdout",
          "text": [
            "Olá! Digite as notas desejadas nos locais indicados: \n",
            "Digite a primeira nota: 8.4\n",
            "Digite a segunda nota: 3.5\n",
            "A média foi:  5.95e com isso, o aluno foi aprovado\n"
          ]
        }
      ],
      "source": [
        "print(\"Olá! Digite as notas desejadas nos locais indicados: \")\n",
        "nota1 = float(input(\"Digite a primeira nota: \"));\n",
        "nota2 = float(input(\"Digite a segunda nota: \"));\n",
        "\n",
        "Media = (nota1 + nota2)/2\n",
        "\n",
        "if Media > 5:\n",
        "  print(\"A média foi: \", str(Media) + \" e com isso, o aluno foi aprovado\")\n",
        "elif Media > 3 and Media < 5:\n",
        "  print(\"A média foi: \", str(Media) + \" e com isso, o aluno está de recuperação. Boa sorte!\")\n",
        "else:\n",
        "  print(\"A média foi: \", str(Media) + \" e com isso, o aluno está retido!\")\n"
      ]
    },
    {
      "cell_type": "code",
      "source": [
        "Nome = str(input(\"Insira o nome do produto: \"))\n",
        "Preço = float(input(\"Digite o preço do produto: \"))\n",
        "\n",
        "valordesconto = 0.20 * Preço;\n",
        "novovalor = Preço - valordesconto\n",
        "\n",
        "print(\"O produto solicitado foi o {} e o preço do produto é R$: {:.3f}. E com o desconto, o novo preço é: {:.3f}\".format(Nome, Preço, novovalor))\n",
        "\n",
        "if novovalor > 1000:\n",
        "  print(\"Bastante caro!\")\n",
        "elif novovalor > 800 and novovalor < 1000:\n",
        "  print(\"É um valor justo!\")\n",
        "else:\n",
        "  print(\"baratinho!\")"
      ],
      "metadata": {
        "colab": {
          "base_uri": "https://localhost:8080/"
        },
        "id": "Br1Ea6d72MwS",
        "outputId": "b67b8c0e-6452-4162-af1a-c62660cbf169"
      },
      "execution_count": null,
      "outputs": [
        {
          "output_type": "stream",
          "name": "stdout",
          "text": [
            "Insira o nome do produto: Corsa\n",
            "Digite o preço do produto: 17840\n",
            "O produto solicitado foi o Corsa e o preço do produto é R$: 17840.000. E com o desconto, o novo preço é: 14272.000\n",
            "Bastante caro!\n"
          ]
        }
      ]
    },
    {
      "cell_type": "code",
      "source": [
        "decisao = str(input(\"Pressione S para calcular a média, ou N para não calcular a média: \"))\n",
        "while decisao == \"S\" or decisao == \"s\":\n",
        "  nota1 = float(input(\"Digite a primeira nota: \"))\n",
        "  nota2 = float(input(\"Digite a segunda nota: \"))\n",
        "\n",
        "  media = (nota1 + nota2)/2\n",
        "  print(\"A média é: \", media)\n",
        "\n",
        "  if media > 5:\n",
        "    print(\"Passou de ano\")\n",
        "  elif media > 3 and media < 5:\n",
        "    print(\"Recuperação\")\n",
        "  else:\n",
        "    print(\"Danou-se\")\n",
        "\n",
        "\n",
        "  decisao = str(input(\"Deseja recalcular as médias? S ou N\"))\n",
        "\n",
        "print(\"Volte sempre!\")\n"
      ],
      "metadata": {
        "colab": {
          "base_uri": "https://localhost:8080/"
        },
        "id": "DmcR_zk2jUkS",
        "outputId": "32dff767-b45e-43fe-fca1-60d6c069c161"
      },
      "execution_count": null,
      "outputs": [
        {
          "output_type": "stream",
          "name": "stdout",
          "text": [
            "Pressione S para calcular a média, ou N para não calcular a média: s\n",
            "Digite a primeira nota: 4.5\n",
            "Digite a segunda nota: 9.8\n",
            "A média é:  7.15\n",
            "Passou de ano\n",
            "Deseja recalcular as médias? S ou Nn\n",
            "Volte sempre!\n"
          ]
        }
      ]
    },
    {
      "cell_type": "code",
      "source": [
        "qtd = int(input(\"De quantos alunos deseja ver a média? \"))\n",
        "contador = 0;\n",
        "while contador < qtd:\n",
        "      nota1 = float(input(\"Digite a primeira nota: \"));\n",
        "      nota2 = float(input(\"Digite a segunda nota: \"));\n",
        "\n",
        "      media = (nota1 + nota2)/2;\n",
        "\n",
        "      print(\"A média é: {:.2f}\".format(media))\n",
        "\n",
        "      if media > 5:\n",
        "        print(\"Passou!\");\n",
        "      elif media > 3 and media < 5:\n",
        "        print(\"Recuperação\");\n",
        "      else:\n",
        "        print(\"Deu ruim!\");\n",
        "\n",
        "      contador = contador + 1;\n",
        "\n",
        "\n",
        "print(\"A contagem está em: \", contador)\n",
        "print(\"Obrigado!\")"
      ],
      "metadata": {
        "colab": {
          "base_uri": "https://localhost:8080/"
        },
        "id": "PF9UNueJI4VH",
        "outputId": "ba09c32d-5cef-4596-f59f-45cea6d11362"
      },
      "execution_count": null,
      "outputs": [
        {
          "output_type": "stream",
          "name": "stdout",
          "text": [
            "De quantos alunos deseja ver a média? 2\n",
            "Digite a primeira nota: 7.5\n",
            "Digite a segunda nota: 3.9\n",
            "A média é: 5.70\n",
            "Passou!\n",
            "Digite a primeira nota: 4.8\n",
            "Digite a segunda nota: 1\n",
            "A média é: 2.90\n",
            "Deu ruim!\n",
            "A contagem está em:  2\n",
            "Obrigado!\n"
          ]
        }
      ]
    },
    {
      "cell_type": "code",
      "source": [
        "from re import M\n",
        "def media2N(n1,n2):\n",
        "  calc_media = (n1+n2) / 2;\n",
        "  return calc_media\n",
        "\n",
        "def sit_aluno(n):\n",
        "  if media > 7:\n",
        "    print(\"Passou!\");\n",
        "  elif media > 5 and media < 7:\n",
        "    print(\"Recuperação\");\n",
        "  else:\n",
        "    print(\"reprovado!\");\n",
        "\n",
        "qtd = int(input(\"De quantos alunos deseja ver a média? \"))\n",
        "contador = 0;\n",
        "while contador < qtd:\n",
        "      nota1 = float(input(\"Digite a primeira nota: \"));\n",
        "      nota2 = float(input(\"Digite a segunda nota: \"));\n",
        "\n",
        "      media = media2N(nota1, nota2)\n",
        "\n",
        "      print(\"A média é: {:.2f}\".format(media))\n",
        "\n",
        "      situação = sit_aluno(media)\n",
        "      contador = contador + 1;\n",
        "\n",
        "print(\"A contagem está em: \", contador)\n",
        "print(\"Obrigado!\")"
      ],
      "metadata": {
        "colab": {
          "base_uri": "https://localhost:8080/"
        },
        "id": "G9c7bRkRKcUk",
        "outputId": "07e13f9d-fab5-48a3-f494-8de7b5400be3"
      },
      "execution_count": null,
      "outputs": [
        {
          "output_type": "stream",
          "name": "stdout",
          "text": [
            "De quantos alunos deseja ver a média? 1\n",
            "Digite a primeira nota: 5.5\n",
            "Digite a segunda nota: 8.9\n",
            "A média é: 7.20\n",
            "Passou!\n",
            "A contagem está em:  1\n",
            "Obrigado!\n"
          ]
        }
      ]
    },
    {
      "cell_type": "code",
      "source": [
        "qtd = int(input(\"Digite a quantidade de vezes para calcular a média: \"));\n",
        "\n",
        "for contador in range(qtd):\n",
        "  nota1 = float(input(\"Digita primeira nota: \"));\n",
        "  nota2 = float(input(\"Digite segunda nota: \"));\n",
        "  media = float((nota1+nota2)/2);\n",
        "  print(\"A média é: \", media);\n",
        "\n",
        "  if media > 5:\n",
        "    print(\"Passou!\");\n",
        "  elif media > 3 and media < 5:\n",
        "    print(\"Recuperação\");\n",
        "  else:\n",
        "    print(\"Ferrou\");\n",
        "\n",
        "  contador = contador + 1;\n",
        "\n",
        "print(\"O contador está: \", contador)\n",
        "print(\"Obrigado\")"
      ],
      "metadata": {
        "colab": {
          "base_uri": "https://localhost:8080/"
        },
        "id": "kgcUyy0iUa5v",
        "outputId": "6dfa0003-a192-4862-8bf4-79f6f46e92b2"
      },
      "execution_count": null,
      "outputs": [
        {
          "output_type": "stream",
          "name": "stdout",
          "text": [
            "Digite a quantidade de vezes para calcular a média: 2\n",
            "Digita primeira nota: 1.5\n",
            "Digite segunda nota: 2\n",
            "A média é:  1.75\n",
            "Ferrou\n",
            "Digita primeira nota: 5\n",
            "Digite segunda nota: 5\n",
            "A média é:  5.0\n",
            "Ferrou\n",
            "O contador está:  2\n",
            "Obrigado\n"
          ]
        }
      ]
    },
    {
      "cell_type": "code",
      "source": [
        "qtd = int(input(\"Há quantos funcionários? \"))\n",
        "def novo(salario, percentual):\n",
        "  calc_ajuste = sal * (1+ perc);\n",
        "  return calc_ajuste;\n",
        "\n",
        "for contador in range(qtd):\n",
        "  sal = float(input(\"Digite o salário: \"))\n",
        "  perc = float(input(\"Qual o percentual de ajuste salarial, em decimal? \"))\n",
        "  ajuste = novo(sal, perc);\n",
        "  print(\"Novo salário: {:.2f}\".format(ajuste));\n",
        "\n",
        "\n",
        "print(\"O contador está: \", contador)\n",
        "print(\"Pronto!\")\n",
        "\n",
        "\n",
        "\n",
        "\n"
      ],
      "metadata": {
        "colab": {
          "base_uri": "https://localhost:8080/"
        },
        "id": "SWcVsv4S-WdK",
        "outputId": "2dda199e-447a-4812-e45a-ac0b00db8ef9"
      },
      "execution_count": null,
      "outputs": [
        {
          "output_type": "stream",
          "name": "stdout",
          "text": [
            "Há quantos funcionários? 2\n",
            "Digite o salário: 3850\n",
            "Qual o percentual de ajuste salarial, em decimal? 0.75\n",
            "Novo salário: 6737.50\n",
            "Digite o salário: 3850\n",
            "Qual o percentual de ajuste salarial, em decimal? 1\n",
            "Novo salário: 7700.00\n",
            "O contador está:  1\n",
            "Pronto!\n"
          ]
        }
      ]
    },
    {
      "cell_type": "code",
      "source": [
        "peso = 0;\n",
        "altura = 0;\n",
        "\n",
        "contador = int(input(\"Quantas tentativas?\"))\n",
        "def imc(n,x):\n",
        "  calc_IMC= kg /(altura**2)\n",
        "  return calc_IMC;\n",
        "\n",
        "\n",
        "for i in range(contador):\n",
        "      nome = str(input(\"Qual nome do paciente? \"))\n",
        "      kg = float(input(\"Informe o peso do paciente: \"))\n",
        "      altura = float(input(\"Agora informe a altura: \"));\n",
        "\n",
        "      IMC = imc(kg, altura) * 10000\n",
        "      print(IMC)\n",
        "\n",
        "      print(\"O {} tem {} kg e {:.2f} de altura. Seu IMC é {:.2f}. Abaixo, a situação:\".format(nome, kg, altura, IMC))\n",
        "\n",
        "      if  IMC < 18.5:\n",
        "        print(\"Magreza\")\n",
        "      elif 18.5 <= IMC <=  24.9:\n",
        "        print(\"Normal\");\n",
        "      elif 25 <= IMC <= 29.9:\n",
        "        print(\"Sobrepeso\");\n",
        "      elif 30 <= IMC <= 34.9:\n",
        "        print(\"Obesidade I\");\n",
        "      elif 35 <= IMC <= 39.9:\n",
        "        print(\"Obesidade II\");\n",
        "      else:\n",
        "        print('Obesidade III');\n",
        "\n",
        "\n",
        "\n",
        "\n"
      ],
      "metadata": {
        "colab": {
          "base_uri": "https://localhost:8080/"
        },
        "id": "dxzbiUl8I3Cc",
        "outputId": "884e446b-8c71-4cc8-ad71-034186ff61c1"
      },
      "execution_count": 37,
      "outputs": [
        {
          "output_type": "stream",
          "name": "stdout",
          "text": [
            "Quantas tentativas?1\n",
            "Qual nome do paciente? Mauro\n",
            "Informe o peso do paciente: 78\n",
            "Agora informe a altura: 167\n",
            "27.968016063681024\n",
            "O Mauro tem 78.0 kg e 167.00 de altura. Seu IMC é 27.97. Abaixo, a situação:\n",
            "Sobrepeso\n"
          ]
        }
      ]
    }
  ]
}